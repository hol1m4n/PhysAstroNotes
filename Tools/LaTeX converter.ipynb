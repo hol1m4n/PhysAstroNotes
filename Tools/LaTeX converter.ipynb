{
 "cells": [
  {
   "cell_type": "code",
   "execution_count": 29,
   "id": "ff76d94c-e951-4e39-a1df-2a66730d3bff",
   "metadata": {},
   "outputs": [
    {
     "name": "stdout",
     "output_type": "stream",
     "text": [
      "El archivo más reciente es: /Users/hollman/Screenshots/Captura de pantalla 2025-03-20 a la(s) 12.48.14.png\n",
      "{\\cal H}(z)={\\cal H}_{0}\\sqrt{\\Omega_{M}(1+z)^{3}+\\Omega_{k}(1+z)^{2}+\\Omega_{\\Lambda}}.\n"
     ]
    }
   ],
   "source": [
    "import os\n",
    "import glob\n",
    "from PIL import Image\n",
    "from pix2tex.cli import LatexOCR\n",
    "\n",
    "\n",
    "def get_most_recent(folder, extension=\"*\"):\n",
    "    patron = os.path.join(folder, f\"*.{extension}\")\n",
    "    file_list = glob.glob(patron)\n",
    "    if not file_list:\n",
    "        return None\n",
    "    latest_file = max(file_list, key=os.path.getmtime)\n",
    "    return os.path.abspath(latest_file)\n",
    "\n",
    "\n",
    "path = \"/Users/hollman/Screenshots\"\n",
    "latest = get_most_recent(path)\n",
    "\n",
    "if latest:\n",
    "    print(f\"El archivo más reciente es: {latest}\")\n",
    "else:\n",
    "    print(\"No se encontraron archivos en la carpeta especificada.\")\n",
    "\n",
    "img = Image.open(latest)\n",
    "model = LatexOCR()\n",
    "TEXT = str(model(img))\n",
    "print(model(img))\n",
    "\n"
   ]
  },
  {
   "cell_type": "code",
   "execution_count": null,
   "id": "f0b97261-eaff-4ceb-9969-0a434799f83e",
   "metadata": {},
   "outputs": [],
   "source": []
  },
  {
   "cell_type": "code",
   "execution_count": null,
   "id": "283bea49-e617-4e5d-9358-d2f15b018c7a",
   "metadata": {},
   "outputs": [],
   "source": []
  },
  {
   "cell_type": "code",
   "execution_count": null,
   "id": "83d8a433-1eb0-4750-80d2-8ebcbf05ba50",
   "metadata": {},
   "outputs": [],
   "source": []
  }
 ],
 "metadata": {
  "kernelspec": {
   "display_name": "PIX",
   "language": "python",
   "name": "pix"
  },
  "language_info": {
   "codemirror_mode": {
    "name": "ipython",
    "version": 3
   },
   "file_extension": ".py",
   "mimetype": "text/x-python",
   "name": "python",
   "nbconvert_exporter": "python",
   "pygments_lexer": "ipython3",
   "version": "3.9.21"
  }
 },
 "nbformat": 4,
 "nbformat_minor": 5
}
