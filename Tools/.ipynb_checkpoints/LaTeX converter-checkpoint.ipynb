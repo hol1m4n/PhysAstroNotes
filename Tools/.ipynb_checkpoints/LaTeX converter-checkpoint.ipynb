{
 "cells": [
  {
   "cell_type": "code",
   "execution_count": 3,
   "id": "ff76d94c-e951-4e39-a1df-2a66730d3bff",
   "metadata": {},
   "outputs": [
    {
     "name": "stdout",
     "output_type": "stream",
     "text": [
      "El archivo más reciente es: /Users/hodany7/Screenshots/Captura de Pantalla 2025-04-01 a la(s) 16.52.19.png\n",
      "\\xi_{\\mathrm{est}}={\\frac{\\zeta N N\\rangle}{\\bar{n}_{\\mathrm{est}}\\zeta N W\\rangle}}-1\\;,\\quad\\bar{n}_{\\mathrm{est}}={\\frac{\\zeta N\\rangle}{\\zeta W\\rangle}}\\,,\n"
     ]
    }
   ],
   "source": [
    "import os\n",
    "import glob\n",
    "from PIL import Image\n",
    "from pix2tex.cli import LatexOCR\n",
    "\n",
    "\n",
    "def get_most_recent(folder, extension=\"*\"):\n",
    "    patron = os.path.join(folder, f\"*.{extension}\")\n",
    "    file_list = glob.glob(patron)\n",
    "    if not file_list:\n",
    "        return None\n",
    "    latest_file = max(file_list, key=os.path.getmtime)\n",
    "    return os.path.abspath(latest_file)\n",
    "\n",
    "\n",
    "path = \"/Users/hodany7/Screenshots\"\n",
    "latest = get_most_recent(path)\n",
    "\n",
    "if latest:\n",
    "    print(f\"El archivo más reciente es: {latest}\")\n",
    "else:\n",
    "    print(\"No se encontraron archivos en la carpeta especificada.\")\n",
    "\n",
    "img = Image.open(latest)\n",
    "model = LatexOCR()\n",
    "TEXT = str(model(img))\n",
    "print(model(img))\n",
    "\n"
   ]
  },
  {
   "cell_type": "code",
   "execution_count": 3,
   "id": "411be7a1-af6c-4fdd-9a8a-280499e838ed",
   "metadata": {
    "collapsed": true,
    "jupyter": {
     "outputs_hidden": true,
     "source_hidden": true
    }
   },
   "outputs": [
    {
     "name": "stdout",
     "output_type": "stream",
     "text": [
      "Collecting feedparser\n",
      "  Downloading feedparser-6.0.11-py3-none-any.whl.metadata (2.4 kB)\n",
      "Collecting sgmllib3k (from feedparser)\n",
      "  Downloading sgmllib3k-1.0.0.tar.gz (5.8 kB)\n",
      "  Preparing metadata (setup.py) ... \u001b[?25ldone\n",
      "\u001b[?25hDownloading feedparser-6.0.11-py3-none-any.whl (81 kB)\n",
      "Building wheels for collected packages: sgmllib3k\n",
      "  Building wheel for sgmllib3k (setup.py) ... \u001b[?25ldone\n",
      "\u001b[?25h  Created wheel for sgmllib3k: filename=sgmllib3k-1.0.0-py3-none-any.whl size=6089 sha256=19cd3a91e51a8251cc7ddb64bd96625366578467d872a5874d84a168a8bbd2be\n",
      "  Stored in directory: /Users/hodany7/Library/Caches/pip/wheels/65/7a/a7/78c287f64e401255dff4c13fdbc672fed5efbfd21c530114e1\n",
      "Successfully built sgmllib3k\n",
      "Installing collected packages: sgmllib3k, feedparser\n",
      "Successfully installed feedparser-6.0.11 sgmllib3k-1.0.0\n"
     ]
    }
   ],
   "source": [
    "!pip install feedparser"
   ]
  },
  {
   "cell_type": "code",
   "execution_count": 2,
   "id": "283bea49-e617-4e5d-9358-d2f15b018c7a",
   "metadata": {},
   "outputs": [],
   "source": [
    "import feedparser\n",
    "\n",
    "def formatear_autor(nombre_completo):\n",
    "    \"\"\"\n",
    "    Toma el nombre completo y retorna un string en formato \"Inicial.Apellido\".\n",
    "    Se asume que el apellido es la última palabra y el primer nombre es la primera palabra.\n",
    "    \"\"\"\n",
    "    partes = nombre_completo.split()\n",
    "    if len(partes) >= 2:\n",
    "        inicial = partes[0][0]  # Primera letra del primer nombre\n",
    "        apellido = partes[-1]\n",
    "        return f\"{inicial}.{apellido}\"\n",
    "    else:\n",
    "        # Si no se puede separar, retorna el nombre completo\n",
    "        return nombre_completo\n",
    "\n",
    "def obtener_info_arxiv(codigo):\n",
    "    # Elimina el prefijo 'arXiv:' si está presente\n",
    "    if codigo.lower().startswith(\"arxiv:\"):\n",
    "        codigo = codigo[6:]\n",
    "    \n",
    "    # Construimos la URL para consultar la API de arXiv\n",
    "    url = f\"http://export.arxiv.org/api/query?id_list={codigo}\"\n",
    "    \n",
    "    # Parseamos la respuesta del API\n",
    "    feed = feedparser.parse(url)\n",
    "    \n",
    "    # Si no se encontró ningún artículo, se devuelve un mensaje de error\n",
    "    if not feed.entries:\n",
    "        return \"No se encontró ningún artículo con ese código.\"\n",
    "    \n",
    "    entry = feed.entries[0]\n",
    "    \n",
    "    # Título del artículo (limpiando saltos de línea y espacios extra)\n",
    "    titulo = entry.title.strip().replace('\\n', ' ')\n",
    "    \n",
    "    # Se obtiene el año de publicación a partir del campo 'published'\n",
    "    anio = entry.published[:4]\n",
    "    \n",
    "    # Se procesan los nombres de los autores\n",
    "    autores_brutos = [author.name for author in entry.authors]\n",
    "    autores_formateados = [formatear_autor(nombre) for nombre in autores_brutos]\n",
    "    \n",
    "    if len(autores_formateados) > 2:\n",
    "        # Si son más de dos, se muestran los dos primeros y et al.\n",
    "        autores_final = \", \".join(autores_formateados[:2]) + \", et al.\"\n",
    "    else:\n",
    "        # Si hay dos o menos, se muestran todos separados por coma\n",
    "        autores_final = \", \".join(autores_formateados)\n",
    "    \n",
    "    # Se arma el texto final\n",
    "    resultado = (\n",
    "        f\"Autores: {autores_final}\\n\"\n",
    "        f\"Año: {anio}\\n\"\n",
    "        f\"Título: {titulo}\\n\"\n",
    "        f\"Código arXiv: {codigo}\"\n",
    "        f\"\\n\"\n",
    "        f\"Text:  {autores_final},{anio},{titulo},{codigo}\"\n",
    "    )\n",
    "    \n",
    "    return resultado\n",
    "\n"
   ]
  },
  {
   "cell_type": "code",
   "execution_count": 3,
   "id": "83d8a433-1eb0-4750-80d2-8ebcbf05ba50",
   "metadata": {},
   "outputs": [
    {
     "name": "stdin",
     "output_type": "stream",
     "text": [
      "Ingresa el código arXiv (ejemplo: arXiv:2101.00001):  1211.6211\n"
     ]
    },
    {
     "name": "stdout",
     "output_type": "stream",
     "text": [
      "Autores: M.Vargas-Magaña, J.Bautista, et al.\n",
      "Año: 2012\n",
      "Título: An optimized correlation function estimator for galaxy surveys\n",
      "Código arXiv: 1211.6211\n",
      "Text:  M.Vargas-Magaña, J.Bautista, et al.,2012,An optimized correlation function estimator for galaxy surveys,1211.6211\n"
     ]
    }
   ],
   "source": [
    "if __name__ == '__main__':\n",
    "    codigo_usuario = input(\"Ingresa el código arXiv (ejemplo: arXiv:2101.00001): \")\n",
    "    info = obtener_info_arxiv(codigo_usuario)\n",
    "    print(info)"
   ]
  },
  {
   "cell_type": "code",
   "execution_count": 4,
   "id": "d9243417-efdf-4693-824e-09d802ba16dc",
   "metadata": {},
   "outputs": [
    {
     "name": "stdout",
     "output_type": "stream",
     "text": [
      "Primack, J.,2024,Galaxy Formation in $\\Lambda$CDM Cosmology.\n"
     ]
    }
   ],
   "source": [
    "print(r'Primack, J.,2024,Galaxy Formation in $\\Lambda$CDM Cosmology.')"
   ]
  },
  {
   "cell_type": "code",
   "execution_count": null,
   "id": "85352b44-6041-4ede-97fe-31977aba01de",
   "metadata": {},
   "outputs": [],
   "source": []
  }
 ],
 "metadata": {
  "kernelspec": {
   "display_name": "PIX",
   "language": "python",
   "name": "pix"
  },
  "language_info": {
   "codemirror_mode": {
    "name": "ipython",
    "version": 3
   },
   "file_extension": ".py",
   "mimetype": "text/x-python",
   "name": "python",
   "nbconvert_exporter": "python",
   "pygments_lexer": "ipython3",
   "version": "3.9.21"
  }
 },
 "nbformat": 4,
 "nbformat_minor": 5
}
