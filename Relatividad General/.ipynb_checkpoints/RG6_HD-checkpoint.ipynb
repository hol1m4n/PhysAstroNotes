{
 "cells": [
  {
   "cell_type": "markdown",
   "id": "97175e0d-bed1-443f-8974-be7a07988289",
   "metadata": {},
   "source": [
    "\\begin{align}\n",
    "\\Huge \\text{Tarea 6} \\notag\n",
    "\\end{align}\n",
    "\n",
    "\\begin{align}\n",
    "\\textbf{Holman Daniel Quintero Salazar}\\notag \\\\ \n",
    "\\end{align}\n",
    "\n",
    "\\begin{align}\n",
    "\\text{Relatividad General - Dr. Luis Arturo Ureña López}\\notag \\\\\n",
    "\\end{align}\n",
    "\n",
    "\\begin{align}\n",
    "\\text{25/11/24}\\notag\n",
    "\\end{align}\n",
    "\n",
    "\\begin{align}\n",
    "\\textbf{Calculadora de símbolos de Christoffel y componentes del tensor de Riemann}\\notag\n",
    "\\end{align}"
   ]
  },
  {
   "cell_type": "markdown",
   "id": "a48714de-16fc-478b-a365-ba153195a829",
   "metadata": {
    "jp-MarkdownHeadingCollapsed": true
   },
   "source": [
    "#### Librerías"
   ]
  },
  {
   "cell_type": "code",
   "execution_count": 238,
   "id": "9b4a8dca-ba58-485e-ac68-ba4694984cf3",
   "metadata": {},
   "outputs": [],
   "source": [
    "# !pip install sympy\n",
    "import sympy as sp\n",
    "import numpy as np\n",
    "from IPython.display import display as DP\n",
    "from IPython.display import Math\n",
    "from collections import Counter\n",
    "from sympy.tensor.array import MutableDenseNDimArray\n",
    "from sympy.tensor.array import tensorcontraction as contraction"
   ]
  },
  {
   "cell_type": "markdown",
   "id": "2512831d-3a86-47bd-a864-63ce5d033a2e",
   "metadata": {},
   "source": [
    "#### Relaciones"
   ]
  },
  {
   "cell_type": "code",
   "execution_count": 239,
   "id": "dbb58f83-3420-467f-931d-e81d25380520",
   "metadata": {},
   "outputs": [
    {
     "data": {
      "text/latex": [
       "$\\displaystyle \\text{1. Forma covariante/contravariante de la métrica: }\\,\\, g_{\\alpha\\beta}   \\,\\, / \\,\\,  g^{\\alpha\\beta}$"
      ],
      "text/plain": [
       "<IPython.core.display.Math object>"
      ]
     },
     "metadata": {},
     "output_type": "display_data"
    },
    {
     "data": {
      "text/latex": [
       "$\\displaystyle \\text{2. Símbolos de Christoffel:   }\\,\\, \\Gamma^{i}_{kl}=\\frac{1}{2}g^{im}\\Bigl(\\frac{\\partial g_{mk}}{\\partial x^{l}} + \\frac{\\partial g_{ml}}{\\partial x^{k}}  - \\frac{\\partial g_{kl}}{\\partial x^{m}} \\Bigl)$"
      ],
      "text/plain": [
       "<IPython.core.display.Math object>"
      ]
     },
     "metadata": {},
     "output_type": "display_data"
    },
    {
     "data": {
      "text/latex": [
       "$\\displaystyle \\text{3. Tensor de Riemann:   }\\,\\, R^{\\alpha}_{\\beta\\mu\\nu} = \\partial_{\\mu} \\Gamma^{\\alpha}_{\\beta\\nu} - \\partial_{\\nu} \\Gamma^{\\alpha}_{\\beta\\mu} + \\Gamma^{\\alpha}_{\\sigma\\mu}\\Gamma^{\\sigma}_{\\beta\\nu} - \\Gamma^{\\alpha}_{\\sigma\\nu}\\Gamma^{\\sigma}_{\\beta\\mu}$"
      ],
      "text/plain": [
       "<IPython.core.display.Math object>"
      ]
     },
     "metadata": {},
     "output_type": "display_data"
    },
    {
     "data": {
      "text/latex": [
       "$\\displaystyle \\text{4. Forma totalmente covariante del tensor de Riemann:   }\\,\\, R_{\\alpha\\beta\\mu\\nu} = g_{\\alpha\\rho} R^{\\rho}_{\\beta\\mu\\nu}$"
      ],
      "text/plain": [
       "<IPython.core.display.Math object>"
      ]
     },
     "metadata": {},
     "output_type": "display_data"
    },
    {
     "data": {
      "text/latex": [
       "$\\displaystyle \\text{5. Antisimetría:   }\\,\\, R_{\\rho\\sigma\\mu\\nu} = -R_{\\rho\\sigma\\nu\\mu} , R_{\\rho\\sigma\\mu\\nu} = -R_{\\sigma\\rho\\mu\\nu}$"
      ],
      "text/plain": [
       "<IPython.core.display.Math object>"
      ]
     },
     "metadata": {},
     "output_type": "display_data"
    },
    {
     "data": {
      "text/latex": [
       "$\\displaystyle \\text{6. Pares:   }\\,\\, R_{\\rho\\sigma\\mu\\nu} = R_{\\mu\\nu\\rho\\sigma}$"
      ],
      "text/plain": [
       "<IPython.core.display.Math object>"
      ]
     },
     "metadata": {},
     "output_type": "display_data"
    }
   ],
   "source": [
    "DP(Math(r\"\\text{1. Forma covariante/contravariante de la métrica: }\\,\\, g_{\\alpha\\beta}   \\,\\, / \\,\\,  g^{\\alpha\\beta}\"))\n",
    "DP(Math(r\"\\text{2. Símbolos de Christoffel:   }\\,\\, \\Gamma^{i}_{kl}=\\frac{1}{2}g^{im}\\Bigl(\\frac{\\partial g_{mk}}{\\partial x^{l}}\"\n",
    "        + r\" + \\frac{\\partial g_{ml}}{\\partial x^{k}}  - \\frac{\\partial g_{kl}}{\\partial x^{m}} \\Bigl)\"))\n",
    "DP(Math(r\"\\text{3. Tensor de Riemann:   }\\,\\, R^{\\alpha}_{\\beta\\mu\\nu} = \\partial_{\\mu} \\Gamma^{\\alpha}_{\\beta\\nu} - \\partial_{\\nu} \\Gamma^{\\alpha}_{\\beta\\mu}\"\n",
    "        + r\" + \\Gamma^{\\alpha}_{\\sigma\\mu}\\Gamma^{\\sigma}_{\\beta\\nu} - \\Gamma^{\\alpha}_{\\sigma\\nu}\\Gamma^{\\sigma}_{\\beta\\mu}\"))\n",
    "DP(Math(r\"\\text{4. Forma totalmente covariante del tensor de Riemann:   }\\,\\, R_{\\alpha\\beta\\mu\\nu} = g_{\\alpha\\rho} R^{\\rho}_{\\beta\\mu\\nu}\"))\n",
    "DP(Math(r\"\\text{5. Antisimetría:   }\\,\\, R_{\\rho\\sigma\\mu\\nu} = -R_{\\rho\\sigma\\nu\\mu} , R_{\\rho\\sigma\\mu\\nu} = -R_{\\sigma\\rho\\mu\\nu}\"))\n",
    "DP(Math(r\"\\text{6. Pares:   }\\,\\, R_{\\rho\\sigma\\mu\\nu} = R_{\\mu\\nu\\rho\\sigma}\"))"
   ]
  },
  {
   "cell_type": "markdown",
   "id": "86658a30-6ef3-468b-bdb8-90fbb961f564",
   "metadata": {},
   "source": [
    "#### Variables globales, métricas y Funciones"
   ]
  },
  {
   "cell_type": "code",
   "execution_count": 240,
   "id": "6d8e1436-cd8e-4f0e-a6c4-e3be178e5f6e",
   "metadata": {},
   "outputs": [],
   "source": [
    "# Variables globales para el cómputo\n",
    "S = None # Componentes de la métrica\n",
    "F = None # Funciones o términos adicionales\n",
    "g = None # Métrica\n",
    "\n",
    "def m(op):# Función para escoger la métrica\n",
    "    global S, F, g\n",
    "    if op == 29: # Métrica para una esfera unitaria\n",
    "      S = sp.symbols('theta phi') # theta ,phi  ---> Variables esfera unitaria\n",
    "      g = sp.Matrix([\n",
    "        [1, 0],\n",
    "        [0, sp.sin(S[0])**2]\n",
    "      ])\n",
    "      return g\n",
    "    if op == 32: # Métrica para una esfera unitaria\n",
    "      S = sp.symbols('u v w p') # theta ,phi  ---> Variables esfera unitaria\n",
    "      g = sp.Matrix([\n",
    "        [0,1,0,0],\n",
    "        [1,0,0,0],\n",
    "        [0,0,1,0],\n",
    "        [0,0,0,1]\n",
    "      ])\n",
    "      return g\n",
    "    if op == 35:\n",
    "      S = sp.symbols('t r theta phi') # t, r, theta ,phi  ---> Variables métrica en esféricas polares con términos extra\n",
    "      F = [sp.Function('Phi')(S[1]),sp.Function('varphi')(S[1])] # Psi, Varphi ----> Funciones f(r)\n",
    "      g = sp.Matrix([\n",
    "        [-1*sp.exp(2*F[0]), 0, 0, 0],\n",
    "        [0, sp.exp(2*F[1]), 0, 0],\n",
    "        [0, 0, S[1]**2, 0],\n",
    "        [0, 0, 0, S[1]**2 * sp.sin(S[2])**2]\n",
    "      ])\n",
    "      return g\n",
    "    if op == -1: # Métrica de Friedman-Lemaître-Robertson-Walker\n",
    "      S = sp.symbols('t r theta phi') # t, r, theta ,phi  ---> Variables\n",
    "      F = [sp.Function('a')(S[0]),sp.Symbol('K'),sp.Symbol('c')] # a, k ----> Términos adicionales\n",
    "      g = sp.Matrix([\n",
    "        [-1* F[2]**2, 0, 0, 0],\n",
    "        [0, F[0]**2  / (1-(F[1]* S[1]**2)), 0, 0],\n",
    "        [0, 0, F[0]**2 * S[1]**2, 0],\n",
    "        [0, 0, 0, F[0]**2 * S[1]**2 * sp.sin(S[2])**2]\n",
    "      ])\n",
    "      return g\n",
    "    if op == -2: # Métrica de Schwarzschild\n",
    "      S = sp.symbols('t r theta phi') # t, r, theta ,phi  ---> Variables\n",
    "      F = [sp.Symbol('G'),sp.Symbol('M'),sp.Symbol('c')] # a, k ----> Términos adicionales\n",
    "      g = sp.Matrix([\n",
    "        [-1 * (1-((2*F[0]*F[1])/(  S[1]))) , 0, 0, 0],\n",
    "        [0, (1-((2*F[0]*F[1])/( S[1])))**(-1), 0, 0],\n",
    "        [0, 0, S[1]**2, 0],\n",
    "        [0, 0, 0, S[1]**2 * sp.sin(S[2])**2]\n",
    "      ])\n",
    "      return g\n",
    "    if op == -5:\n",
    "      S = sp.symbols('t r theta phi') # t, r, theta ,phi  ---> Variables\n",
    "      F = [sp.Function('a')(S[0])] # a, ----> Términos adicionales\n",
    "      g = sp.Matrix([\n",
    "        [-1, 0, 0, 0],\n",
    "        [0, F[0]**2, 0, 0],\n",
    "        [0, 0, F[0]**2 * S[1]**2, 0],\n",
    "        [0, 0, 0, F[0]**2 * S[1]**2 * sp.sin(S[2])**2]\n",
    "      ])\n",
    "      return g\n",
    "    if op == -6:\n",
    "      S = sp.symbols('r theta phi') # t, r, theta ,phi  ---> Variables\n",
    "      F = [sp.Symbol('a(t)')] # a, ----> Términos adicionales\n",
    "      g = sp.Matrix([\n",
    "        [F[0]**2, 0, 0],\n",
    "        [0, F[0]**2 * S[0]**2, 0],\n",
    "        [0, 0, F[0]**2 * S[0]**2 * sp.sin(S[1])**2]\n",
    "      ])\n",
    "      return g\n",
    "    if op == 0.1:\n",
    "      S = sp.symbols('v u') # t, r, theta ,phi  ---> Variables\n",
    "      g = sp.Matrix([\n",
    "        [1,0],\n",
    "        [0, -1*  S[0]**2]\n",
    "      ])\n",
    "      return g\n",
    "    if op == 0.2:\n",
    "      S = sp.symbols('theta varphi') # t, r, theta ,phi  ---> Variables\n",
    "      F = [sp.Symbol('a'),sp.Symbol('b') ] # a, ----> Términos adicionales\n",
    "      g = sp.Matrix([\n",
    "        [(F[1] + F[0]*sp.sin(S[1]))**2,0],\n",
    "        [0, F[0]**2]\n",
    "      ])\n",
    "      return g\n",
    "    if op == 0.3:\n",
    "      S = sp.symbols('varphi theta') # t, r, theta ,phi  ---> Variables\n",
    "      F = [sp.Symbol('a'),sp.Symbol('b') ] # a, ----> Términos adicionales\n",
    "      g = sp.Matrix([\n",
    "        [F[0]**2, 0],\n",
    "        [0, (F[1] + F[0]*sp.sin(S[1]))**2]\n",
    "      ])\n",
    "      return g\n",
    "    if op == 0.4:\n",
    "      S = sp.symbols('theta varphi') # t, r, theta ,phi  ---> Variables\n",
    "      g = sp.Matrix([\n",
    "        [1, 0],\n",
    "        [0, sp.sin(S[0])**2]\n",
    "      ])\n",
    "      return g\n",
    "\n",
    "\n",
    "def partial(M,m,k,l): # Calculadora de derivadas parciales\n",
    "  if sp.diff(M[m,k],S[l]) != 0:\n",
    "    return sp.diff(M[m,k],S[l])\n",
    "  else:\n",
    "    return 0\n",
    "\n",
    "def permut(p, ls): # Función que restringe las permutaciones de los símbolos de Christoffel\n",
    "    p_count = Counter(p)\n",
    "    return any(Counter(item) == p_count for item in ls)\n",
    "\n",
    "def Christoffel(M,eye=False): # Función que calcula los símbolos de Christoffel: Entradas(métrica,bool para mostrar o no lo resultados)\n",
    "  R = int(M.shape[0]) # Tamaño del array con base en la forma de la métrica\n",
    "  chris_matrix = MutableDenseNDimArray.zeros(R,R,R) # Llenar el array de dimensión R con ceros\n",
    "  G = sp.zeros(R, R)\n",
    "  G = sp.Matrix(G) # Matriz con ceros del símbolo Gamma^{i}_{ij}\n",
    "  M_i = M.inv()#  Matriz inversa de la métrica\n",
    "  for i in range(R): # Bucle para llenar las matrices\n",
    "    for r in range(R):\n",
    "      for c in range(R):\n",
    "        G[r,c] = 0\n",
    "        for v in range(R):\n",
    "          G[r,c] = G[r,c] + (1/2 * M_i[i,v] * (partial(M,c,v,r) + partial(M,r,v,c) - partial(M,r,c,v))) # Aplicar relación 2\n",
    "        chris_matrix[i,r,c] = sp.nsimplify(G[r,c]) # Simplificar\n",
    "\n",
    "    if (eye == True): # Mostrar resultados en pantalla\n",
    "      DP(Math(f\"\\Gamma^{i}_{{ij}} = \" + sp.latex(sp.nsimplify(G)))) # Mostrar símbolos en forma de matriz\n",
    "      print('\\n')\n",
    "      ls_pm = []\n",
    "      for r in range(R): # Tan sólo mostrar aquellos símbolos que sean distintos de 0 y que sean únicos junto a su correspondencia simétrica\n",
    "        for c in range(R):\n",
    "          if G[r,c] != 0:\n",
    "            if (G[r,c] == G[c,r]) and (r != c):\n",
    "              tmp = str(r) + str(c)\n",
    "              if (permut(tmp,ls_pm)) == False:\n",
    "                DP(Math(r'\\Gamma^{' + sp.latex(S[i]) + '}_{' + sp.latex(S[r]) + r' ' + sp.latex(S[c]) + '} = ' + sp.latex(sp.nsimplify(G[r,c])) + r' = \\Gamma^{' + sp.latex(S[i]) + '}_{' + sp.latex(S[c]) + r' ' + sp.latex(S[r]) + '}'))\n",
    "                ls_pm.append(tmp)\n",
    "            else:\n",
    "              DP(Math(r'\\Gamma^{' + sp.latex(S[i]) + '}_{' + sp.latex(S[r]) + r' ' + sp.latex(S[c]) + '} = ' + sp.latex(sp.nsimplify(G[r,c]))))\n",
    "      print('\\n')\n",
    "  return chris_matrix # Devuelve la matriz con los símbolos de Christoffel\n",
    "\n",
    "def Riemann_comp(Cr,a,b,m,v,eye=False,eye0=False): # Función para calcular los componentes del tensor de Riemann basado en índices\n",
    "  # Entradas(matriz con símbolos de Christoffel,índice[alfa,beta,mu,nu],mostrar o no resultados diferentes de cero,mostrar o no resultados iguales de cero)\n",
    "  dim = Cr.shape[0] # Dimensión del arreglo con  los símbolos de Christoffel\n",
    "  T1 = partial(Cr[a],b,v,m) # Primer término en la relación 3\n",
    "  T2 = partial(Cr[a],b,m,v) # Segundo término en la relación 3\n",
    "  s1 = 0 # Primera sumatoria en la relación 3\n",
    "  s2 = 0 # Segunda sumatoria en la relación 3\n",
    "  for p in range(dim): # Computar sumatorias\n",
    "    s1 = s1 + (Cr[a,p,m] * Cr[p,b,v])\n",
    "    s2 = s2 + (Cr[a,p,v] * Cr[p,b,m])\n",
    "  R = T1 - T2 + s1 - s2 # i-ésimo componente del tensor de Riemann basado en los índices evaluados\n",
    "  if R != 0: # Mostrar o no componentes del tensor de Riemann diferentes a cero\n",
    "    if eye == True:\n",
    "      DP(Math(r'R^{' + sp.latex(S[a]) + '}_{' + sp.latex(S[b]) + r' ' + sp.latex(S[m]) + r' ' + sp.latex(S[v]) + '} = ' + sp.latex(sp.factor(R))))\n",
    "      return R\n",
    "    else:\n",
    "      return R\n",
    "  else: # Mostrar o no componentes del tensor de Riemann iguales a cero\n",
    "    if eye0 == True:\n",
    "      DP(Math(r'R^{' + sp.latex(S[a]) + '}_{' + sp.latex(S[b]) + r' ' + sp.latex(S[m]) + r' ' + sp.latex(S[v]) + '} = ' + sp.latex(sp.factor(R))))\n",
    "    else:\n",
    "      return R\n",
    "\n",
    "def Riemann_tensor(Cr,eye=False,eye0=False): # Función que calcula el tensor de Riemann en forma de matriz\n",
    "    # Entradas(Arreglo con los símbolos de Christoffel, mostrar símbolos o no (iguales/diferentes a cero))\n",
    "    D = Cr.shape[1] # Dimensión de los arreglos con los símbolos de Christoffel\n",
    "    tensor_R = MutableDenseNDimArray.zeros(D,D,D,D) # Arreglo donde se guardarán los componentes del tensor de Riemann\n",
    "    for u in range(D): # Bucle para el cálculo de los componentes\n",
    "      for d in range(D):\n",
    "        for t in range(D):\n",
    "          for c in range(D):\n",
    "            tensor_R[u,d,t,c] = sp.factor(Riemann_comp(Cr,u,d,t,c,eye,eye0))\n",
    "    return tensor_R # Devuelve el tensor de Riemann\n",
    "\n",
    "def Riemann_tensor_cov(T,g,show=False): # Función que calcula el tensor de Riemann en su forma covariante\n",
    "    # Entradas (Tensor de Riemann, mostrar o no componentes distintos de 0)\n",
    "    D = T.shape[0] \n",
    "    tensor_R_ = MutableDenseNDimArray.zeros(D,D,D,D) # Matriz del tensor de Riemann covariante compuesto por ceros\n",
    "    for u in range(D): # Iteración para el cálculo de cada componente\n",
    "      for d in range(D):\n",
    "        for t in range(D):\n",
    "          for c in range(D):\n",
    "            tmp = 0\n",
    "            for l in range(D): # Aplicación de la sumatoria en la relación 4\n",
    "              tmp = tmp + g[u,l] * T[l,d,t,c]\n",
    "            tensor_R_[u,d,t,c] = tmp\n",
    "            if (tmp != 0) and (show==True): # Se decide si se muestran o no los componentes del tensor de Riemann covariante distintos de cero\n",
    "              DP(Math(r'R_{' + sp.latex(S[u]) + r' ' + sp.latex(S[d]) + r' ' + sp.latex(S[t]) + r' ' + sp.latex(S[c]) + '} = ' + sp.latex(sp.factor(tmp))))\n",
    "    return tensor_R_ # Devuelve el tensor de Riemann covariante                  \n",
    "\n",
    "\n",
    "def simetrias(R):# Función que retorna los componentes independientes del tensor de Riemann covariante basado en las relaciones 5 y 6\n",
    "  # Entradas (Tensor de Riemann covariante)\n",
    "  n = R.shape[0]\n",
    "  ind = [] # Lista con índices independientes\n",
    "  for rho in range(n):\n",
    "      for sigma in range(rho, n):  # Por antisimetría: rho <= sigma\n",
    "          for mu in range(n):\n",
    "              for nu in range(mu, n):  # Por antisimetría: mu <= nu\n",
    "                  # Verificar la simetría de pares\n",
    "                  if (rho, sigma, mu, nu) not in ind:\n",
    "                      if (mu, nu, rho, sigma) not in ind:\n",
    "                          ind.append((rho, sigma, mu, nu))\n",
    "  for ls in range(len(ind)):# Mostrar aquellos componentes distintos a cero que cumplan con las relaciones 5 y 6\n",
    "    if R[ind[ls][0],ind[ls][1],ind[ls][2],ind[ls][3]] != 0:\n",
    "      DP(Math(r'R_{' + sp.latex(S[ind[ls][0]]) + r' ' + sp.latex(S[ind[ls][1]]) + r' ' + sp.latex(S[ind[ls][2]]) +\n",
    "              r' ' + sp.latex(S[ind[ls][3]]) + '} = ' + sp.latex(R[ind[ls][0],ind[ls][1],ind[ls][2],ind[ls][3]])))"
   ]
  },
  {
   "cell_type": "markdown",
   "id": "b4e1e293-e318-4da2-98d4-890aefa8f830",
   "metadata": {},
   "source": [
    "#### Elección de la métrica, cálculo de símbolos de Christoffel y el tensor de Riemann "
   ]
  },
  {
   "cell_type": "markdown",
   "id": "b0a804a2-dacc-4d77-a6f3-df04b8ab9272",
   "metadata": {},
   "source": [
    "##### Métricas:\n",
    "\n",
    "Para calcular los componentes solo hay que asignar los valores a continuación a la varaiable Op\n",
    "\n",
    "* Esfera unitaria (29)\n",
    "* Esféricas polares con términos extra (35)\n",
    "* FLRW (-1)\n",
    "* Schwarzschild (-2)"
   ]
  },
  {
   "cell_type": "code",
   "execution_count": 241,
   "id": "b8f44b7f-d3b4-423f-a9c7-658a1a71c936",
   "metadata": {},
   "outputs": [
    {
     "name": "stdout",
     "output_type": "stream",
     "text": [
      "\n",
      "\n"
     ]
    },
    {
     "data": {
      "text/latex": [
       "$\\displaystyle \\text{Métrica:} \\,\\, g_{\\alpha\\beta} = \\left[\\begin{matrix}\\left(a \\sin{\\left(\\varphi \\right)} + b\\right)^{2} & 0\\\\0 & a^{2}\\end{matrix}\\right]$"
      ],
      "text/plain": [
       "<IPython.core.display.Math object>"
      ]
     },
     "metadata": {},
     "output_type": "display_data"
    },
    {
     "name": "stdout",
     "output_type": "stream",
     "text": [
      "\n",
      "\n"
     ]
    },
    {
     "data": {
      "text/latex": [
       "$\\displaystyle \\text{Inversa:} \\,\\, g^{\\alpha\\beta} = \\left[\\begin{matrix}\\frac{1}{a^{2} \\sin^{2}{\\left(\\varphi \\right)} + 2 a b \\sin{\\left(\\varphi \\right)} + b^{2}} & 0\\\\0 & \\frac{1}{a^{2}}\\end{matrix}\\right]$"
      ],
      "text/plain": [
       "<IPython.core.display.Math object>"
      ]
     },
     "metadata": {},
     "output_type": "display_data"
    }
   ],
   "source": [
    "Op = 0.2  # Escoger métrica\n",
    "print('\\n')\n",
    "DP(Math(r\"\\text{Métrica:} \\,\\, g_{\\alpha\\beta} = \" + sp.latex(m(Op))))\n",
    "print('\\n')\n",
    "DP(Math(r\"\\text{Inversa:} \\,\\, g^{\\alpha\\beta} = \" + sp.latex(m(Op).inv())))\n"
   ]
  },
  {
   "cell_type": "code",
   "execution_count": 242,
   "id": "a3ab4480-b2f6-4215-b05a-bd207f0662c8",
   "metadata": {},
   "outputs": [
    {
     "data": {
      "text/latex": [
       "$\\displaystyle \\left[\\begin{matrix}\\frac{\\left(a \\sin{\\left(\\varphi \\right)} + b\\right)^{2}}{a^{2} \\sin^{2}{\\left(\\varphi \\right)} + 2 a b \\sin{\\left(\\varphi \\right)} + b^{2}} & 0\\\\0 & 1\\end{matrix}\\right]$"
      ],
      "text/plain": [
       "⎡                             2             ⎤\n",
       "⎢          (a⋅sin(varphi) + b)              ⎥\n",
       "⎢────────────────────────────────────────  0⎥\n",
       "⎢ 2    2                                2   ⎥\n",
       "⎢a ⋅sin (varphi) + 2⋅a⋅b⋅sin(varphi) + b    ⎥\n",
       "⎢                                           ⎥\n",
       "⎣                   0                      1⎦"
      ]
     },
     "execution_count": 242,
     "metadata": {},
     "output_type": "execute_result"
    }
   ],
   "source": [
    "m(Op) * m(Op).inv() "
   ]
  },
  {
   "cell_type": "markdown",
   "id": "46fb24d3-6048-47c2-9878-87bde2f74252",
   "metadata": {},
   "source": [
    "##### Símbolos de Christoffel"
   ]
  },
  {
   "cell_type": "code",
   "execution_count": 243,
   "id": "cd506940-2c48-44cd-8a47-7b9ad04dfd73",
   "metadata": {},
   "outputs": [
    {
     "data": {
      "text/latex": [
       "$\\displaystyle \\Gamma^0_{ij} = \\left[\\begin{matrix}0 & \\frac{a \\left(a \\sin{\\left(\\varphi \\right)} + b\\right) \\cos{\\left(\\varphi \\right)}}{a^{2} \\sin^{2}{\\left(\\varphi \\right)} + 2 a b \\sin{\\left(\\varphi \\right)} + b^{2}}\\\\\\frac{a \\left(a \\sin{\\left(\\varphi \\right)} + b\\right) \\cos{\\left(\\varphi \\right)}}{a^{2} \\sin^{2}{\\left(\\varphi \\right)} + 2 a b \\sin{\\left(\\varphi \\right)} + b^{2}} & 0\\end{matrix}\\right]$"
      ],
      "text/plain": [
       "<IPython.core.display.Math object>"
      ]
     },
     "metadata": {},
     "output_type": "display_data"
    },
    {
     "name": "stdout",
     "output_type": "stream",
     "text": [
      "\n",
      "\n"
     ]
    },
    {
     "data": {
      "text/latex": [
       "$\\displaystyle \\Gamma^{\\theta}_{\\theta \\varphi} = \\frac{a \\left(a \\sin{\\left(\\varphi \\right)} + b\\right) \\cos{\\left(\\varphi \\right)}}{a^{2} \\sin^{2}{\\left(\\varphi \\right)} + 2 a b \\sin{\\left(\\varphi \\right)} + b^{2}} = \\Gamma^{\\theta}_{\\varphi \\theta}$"
      ],
      "text/plain": [
       "<IPython.core.display.Math object>"
      ]
     },
     "metadata": {},
     "output_type": "display_data"
    },
    {
     "name": "stdout",
     "output_type": "stream",
     "text": [
      "\n",
      "\n"
     ]
    },
    {
     "data": {
      "text/latex": [
       "$\\displaystyle \\Gamma^1_{ij} = \\left[\\begin{matrix}- \\frac{\\left(a \\sin{\\left(\\varphi \\right)} + b\\right) \\cos{\\left(\\varphi \\right)}}{a} & 0\\\\0 & 0\\end{matrix}\\right]$"
      ],
      "text/plain": [
       "<IPython.core.display.Math object>"
      ]
     },
     "metadata": {},
     "output_type": "display_data"
    },
    {
     "name": "stdout",
     "output_type": "stream",
     "text": [
      "\n",
      "\n"
     ]
    },
    {
     "data": {
      "text/latex": [
       "$\\displaystyle \\Gamma^{\\varphi}_{\\theta \\theta} = - \\frac{\\left(a \\sin{\\left(\\varphi \\right)} + b\\right) \\cos{\\left(\\varphi \\right)}}{a}$"
      ],
      "text/plain": [
       "<IPython.core.display.Math object>"
      ]
     },
     "metadata": {},
     "output_type": "display_data"
    },
    {
     "name": "stdout",
     "output_type": "stream",
     "text": [
      "\n",
      "\n"
     ]
    },
    {
     "data": {
      "text/latex": [
       "$\\displaystyle \\left[\\begin{matrix}\\left[\\begin{matrix}0 & \\frac{a \\left(a \\sin{\\left(\\varphi \\right)} + b\\right) \\cos{\\left(\\varphi \\right)}}{a^{2} \\sin^{2}{\\left(\\varphi \\right)} + 2 a b \\sin{\\left(\\varphi \\right)} + b^{2}}\\\\\\frac{a \\left(a \\sin{\\left(\\varphi \\right)} + b\\right) \\cos{\\left(\\varphi \\right)}}{a^{2} \\sin^{2}{\\left(\\varphi \\right)} + 2 a b \\sin{\\left(\\varphi \\right)} + b^{2}} & 0\\end{matrix}\\right] & \\left[\\begin{matrix}- \\frac{\\left(a \\sin{\\left(\\varphi \\right)} + b\\right) \\cos{\\left(\\varphi \\right)}}{a} & 0\\\\0 & 0\\end{matrix}\\right]\\end{matrix}\\right]$"
      ],
      "text/plain": [
       "⎡⎡                                             a⋅(a⋅sin(varphi) + b)⋅cos(varph\n",
       "⎢⎢                   0                      ──────────────────────────────────\n",
       "⎢⎢                                           2    2                           \n",
       "⎢⎢                                          a ⋅sin (varphi) + 2⋅a⋅b⋅sin(varphi\n",
       "⎢⎢                                                                            \n",
       "⎢⎢   a⋅(a⋅sin(varphi) + b)⋅cos(varphi)                                        \n",
       "⎢⎢────────────────────────────────────────                     0              \n",
       "⎢⎢ 2    2                                2                                    \n",
       "⎣⎣a ⋅sin (varphi) + 2⋅a⋅b⋅sin(varphi) + b                                     \n",
       "\n",
       "i)    ⎤                                        ⎤\n",
       "──────⎥                                        ⎥\n",
       "     2⎥  ⎡-(a⋅sin(varphi) + b)⋅cos(varphi)    ⎤⎥\n",
       ") + b ⎥  ⎢─────────────────────────────────  0⎥⎥\n",
       "      ⎥  ⎢                a                   ⎥⎥\n",
       "      ⎥  ⎢                                    ⎥⎥\n",
       "      ⎥  ⎣                0                  0⎦⎥\n",
       "      ⎥                                        ⎥\n",
       "      ⎦                                        ⎦"
      ]
     },
     "execution_count": 243,
     "metadata": {},
     "output_type": "execute_result"
    }
   ],
   "source": [
    "Christoffel(m(Op),True)"
   ]
  },
  {
   "cell_type": "markdown",
   "id": "56d1fbc2-e9ad-440d-9ae7-54b08061b505",
   "metadata": {},
   "source": [
    "##### Tensor de Riemann y componentes"
   ]
  },
  {
   "cell_type": "markdown",
   "id": "dfbccc07-e36b-440c-b935-453d57bd5138",
   "metadata": {},
   "source": [
    "###### Componente del tensor de Riemann con índices $\\alpha$,$\\beta$,$\\mu$,$\\nu$"
   ]
  },
  {
   "cell_type": "code",
   "execution_count": 244,
   "id": "28646b0b-83bc-4034-a1c3-f7dfdc62f63e",
   "metadata": {},
   "outputs": [
    {
     "data": {
      "text/latex": [
       "$\\displaystyle R^{\\theta}_{\\varphi \\theta \\varphi} = \\frac{a \\sin{\\left(\\varphi \\right)}}{a \\sin{\\left(\\varphi \\right)} + b}$"
      ],
      "text/plain": [
       "<IPython.core.display.Math object>"
      ]
     },
     "metadata": {},
     "output_type": "display_data"
    },
    {
     "data": {
      "image/png": "[encoded data removed]",
      "text/latex": [
       "$\\displaystyle - \\frac{a^{2} \\left(a \\sin{\\left(\\varphi \\right)} + b\\right)^{2} \\cos^{2}{\\left(\\varphi \\right)}}{\\left(a^{2} \\sin^{2}{\\left(\\varphi \\right)} + 2 a b \\sin{\\left(\\varphi \\right)} + b^{2}\\right)^{2}} - \\frac{a^{2} \\cos^{2}{\\left(\\varphi \\right)}}{a^{2} \\sin^{2}{\\left(\\varphi \\right)} + 2 a b \\sin{\\left(\\varphi \\right)} + b^{2}} - \\frac{a \\left(a \\sin{\\left(\\varphi \\right)} + b\\right) \\left(- 2 a^{2} \\sin{\\left(\\varphi \\right)} \\cos{\\left(\\varphi \\right)} - 2 a b \\cos{\\left(\\varphi \\right)}\\right) \\cos{\\left(\\varphi \\right)}}{\\left(a^{2} \\sin^{2}{\\left(\\varphi \\right)} + 2 a b \\sin{\\left(\\varphi \\right)} + b^{2}\\right)^{2}} + \\frac{a \\left(a \\sin{\\left(\\varphi \\right)} + b\\right) \\sin{\\left(\\varphi \\right)}}{a^{2} \\sin^{2}{\\left(\\varphi \\right)} + 2 a b \\sin{\\left(\\varphi \\right)} + b^{2}}$"
      ],
      "text/plain": [
       "       2                    2    2                           2    2           \n",
       "      a ⋅(a⋅sin(varphi) + b) ⋅cos (varphi)                  a ⋅cos (varphi)   \n",
       "- ─────────────────────────────────────────── - ──────────────────────────────\n",
       "                                            2    2    2                       \n",
       "  ⎛ 2    2                                2⎞    a ⋅sin (varphi) + 2⋅a⋅b⋅sin(va\n",
       "  ⎝a ⋅sin (varphi) + 2⋅a⋅b⋅sin(varphi) + b ⎠                                  \n",
       "\n",
       "                                   ⎛     2                                    \n",
       "             a⋅(a⋅sin(varphi) + b)⋅⎝- 2⋅a ⋅sin(varphi)⋅cos(varphi) - 2⋅a⋅b⋅cos\n",
       "────────── - ─────────────────────────────────────────────────────────────────\n",
       "         2                                                                  2 \n",
       "rphi) + b                         ⎛ 2    2                                2⎞  \n",
       "                                  ⎝a ⋅sin (varphi) + 2⋅a⋅b⋅sin(varphi) + b ⎠  \n",
       "\n",
       "        ⎞                                                       \n",
       "(varphi)⎠⋅cos(varphi)      a⋅(a⋅sin(varphi) + b)⋅sin(varphi)    \n",
       "───────────────────── + ────────────────────────────────────────\n",
       "                         2    2                                2\n",
       "                        a ⋅sin (varphi) + 2⋅a⋅b⋅sin(varphi) + b \n",
       "                                                                "
      ]
     },
     "execution_count": 244,
     "metadata": {},
     "output_type": "execute_result"
    }
   ],
   "source": [
    "Riemann_comp(Christoffel(m(Op),False),0,1,0,1,True,True)"
   ]
  },
  {
   "cell_type": "code",
   "execution_count": 245,
   "id": "3cf78f9d-6099-426d-aeae-e9ab23d3b34f",
   "metadata": {},
   "outputs": [
    {
     "data": {
      "text/latex": [
       "$\\displaystyle R^{\\theta}_{\\varphi \\theta \\varphi} = \\frac{a \\sin{\\left(\\varphi \\right)}}{a \\sin{\\left(\\varphi \\right)} + b}$"
      ],
      "text/plain": [
       "<IPython.core.display.Math object>"
      ]
     },
     "metadata": {},
     "output_type": "display_data"
    },
    {
     "data": {
      "image/png": "[encoded data removed]",
      "text/latex": [
       "$\\displaystyle \\frac{a \\sin{\\left(\\varphi \\right)}}{a \\sin{\\left(\\varphi \\right)} + b}$"
      ],
      "text/plain": [
       "  a⋅sin(varphi)  \n",
       "─────────────────\n",
       "a⋅sin(varphi) + b"
      ]
     },
     "execution_count": 245,
     "metadata": {},
     "output_type": "execute_result"
    }
   ],
   "source": [
    "sp.factor(Riemann_comp(Christoffel(m(Op),False),0,1,0,1,True,True))"
   ]
  },
  {
   "cell_type": "code",
   "execution_count": 246,
   "id": "3d42ffd7-99f7-4101-a191-19aa96a35301",
   "metadata": {},
   "outputs": [
    {
     "data": {
      "text/latex": [
       "$\\displaystyle R^{\\theta}_{\\theta \\theta \\theta} = 0$"
      ],
      "text/plain": [
       "<IPython.core.display.Math object>"
      ]
     },
     "metadata": {},
     "output_type": "display_data"
    },
    {
     "data": {
      "text/latex": [
       "$\\displaystyle R^{\\theta}_{\\theta \\theta \\varphi} = 0$"
      ],
      "text/plain": [
       "<IPython.core.display.Math object>"
      ]
     },
     "metadata": {},
     "output_type": "display_data"
    },
    {
     "data": {
      "text/latex": [
       "$\\displaystyle R^{\\theta}_{\\theta \\varphi \\theta} = 0$"
      ],
      "text/plain": [
       "<IPython.core.display.Math object>"
      ]
     },
     "metadata": {},
     "output_type": "display_data"
    },
    {
     "data": {
      "text/latex": [
       "$\\displaystyle R^{\\theta}_{\\theta \\varphi \\varphi} = 0$"
      ],
      "text/plain": [
       "<IPython.core.display.Math object>"
      ]
     },
     "metadata": {},
     "output_type": "display_data"
    },
    {
     "data": {
      "text/latex": [
       "$\\displaystyle R^{\\theta}_{\\varphi \\theta \\theta} = 0$"
      ],
      "text/plain": [
       "<IPython.core.display.Math object>"
      ]
     },
     "metadata": {},
     "output_type": "display_data"
    },
    {
     "data": {
      "text/latex": [
       "$\\displaystyle R^{\\theta}_{\\varphi \\theta \\varphi} = \\frac{a \\sin{\\left(\\varphi \\right)}}{a \\sin{\\left(\\varphi \\right)} + b}$"
      ],
      "text/plain": [
       "<IPython.core.display.Math object>"
      ]
     },
     "metadata": {},
     "output_type": "display_data"
    },
    {
     "data": {
      "text/latex": [
       "$\\displaystyle R^{\\theta}_{\\varphi \\varphi \\theta} = - \\frac{a \\sin{\\left(\\varphi \\right)}}{a \\sin{\\left(\\varphi \\right)} + b}$"
      ],
      "text/plain": [
       "<IPython.core.display.Math object>"
      ]
     },
     "metadata": {},
     "output_type": "display_data"
    },
    {
     "data": {
      "text/latex": [
       "$\\displaystyle R^{\\theta}_{\\varphi \\varphi \\varphi} = 0$"
      ],
      "text/plain": [
       "<IPython.core.display.Math object>"
      ]
     },
     "metadata": {},
     "output_type": "display_data"
    },
    {
     "data": {
      "text/latex": [
       "$\\displaystyle R^{\\varphi}_{\\theta \\theta \\theta} = 0$"
      ],
      "text/plain": [
       "<IPython.core.display.Math object>"
      ]
     },
     "metadata": {},
     "output_type": "display_data"
    },
    {
     "data": {
      "text/latex": [
       "$\\displaystyle R^{\\varphi}_{\\theta \\theta \\varphi} = - \\frac{\\left(a \\sin{\\left(\\varphi \\right)} + b\\right) \\sin{\\left(\\varphi \\right)}}{a}$"
      ],
      "text/plain": [
       "<IPython.core.display.Math object>"
      ]
     },
     "metadata": {},
     "output_type": "display_data"
    },
    {
     "data": {
      "text/latex": [
       "$\\displaystyle R^{\\varphi}_{\\theta \\varphi \\theta} = \\frac{\\left(a \\sin{\\left(\\varphi \\right)} + b\\right) \\sin{\\left(\\varphi \\right)}}{a}$"
      ],
      "text/plain": [
       "<IPython.core.display.Math object>"
      ]
     },
     "metadata": {},
     "output_type": "display_data"
    },
    {
     "data": {
      "text/latex": [
       "$\\displaystyle R^{\\varphi}_{\\theta \\varphi \\varphi} = 0$"
      ],
      "text/plain": [
       "<IPython.core.display.Math object>"
      ]
     },
     "metadata": {},
     "output_type": "display_data"
    },
    {
     "data": {
      "text/latex": [
       "$\\displaystyle R^{\\varphi}_{\\varphi \\theta \\theta} = 0$"
      ],
      "text/plain": [
       "<IPython.core.display.Math object>"
      ]
     },
     "metadata": {},
     "output_type": "display_data"
    },
    {
     "data": {
      "text/latex": [
       "$\\displaystyle R^{\\varphi}_{\\varphi \\theta \\varphi} = 0$"
      ],
      "text/plain": [
       "<IPython.core.display.Math object>"
      ]
     },
     "metadata": {},
     "output_type": "display_data"
    },
    {
     "data": {
      "text/latex": [
       "$\\displaystyle R^{\\varphi}_{\\varphi \\varphi \\theta} = 0$"
      ],
      "text/plain": [
       "<IPython.core.display.Math object>"
      ]
     },
     "metadata": {},
     "output_type": "display_data"
    },
    {
     "data": {
      "text/latex": [
       "$\\displaystyle R^{\\varphi}_{\\varphi \\varphi \\varphi} = 0$"
      ],
      "text/plain": [
       "<IPython.core.display.Math object>"
      ]
     },
     "metadata": {},
     "output_type": "display_data"
    }
   ],
   "source": [
    "for u in range(2):\n",
    "    for d in range(2):\n",
    "        for t in range(2):\n",
    "            for c in range(2):\n",
    "                Riemann_comp(Christoffel(m(Op),False),u,d,t,c,True,True)\n",
    "                \n",
    "    "
   ]
  },
  {
   "cell_type": "markdown",
   "id": "ef717f02-d357-456e-b067-0e26cb129f2b",
   "metadata": {},
   "source": [
    "###### Componentes del tensor de Riemann distintos de cero"
   ]
  },
  {
   "cell_type": "code",
   "execution_count": 247,
   "id": "29dd9ae8-2ead-497e-93f5-e4daf4897ddc",
   "metadata": {},
   "outputs": [
    {
     "data": {
      "text/latex": [
       "$\\displaystyle R^{\\theta}_{\\varphi \\theta \\varphi} = \\frac{a \\sin{\\left(\\varphi \\right)}}{a \\sin{\\left(\\varphi \\right)} + b}$"
      ],
      "text/plain": [
       "<IPython.core.display.Math object>"
      ]
     },
     "metadata": {},
     "output_type": "display_data"
    },
    {
     "data": {
      "text/latex": [
       "$\\displaystyle R^{\\theta}_{\\varphi \\varphi \\theta} = - \\frac{a \\sin{\\left(\\varphi \\right)}}{a \\sin{\\left(\\varphi \\right)} + b}$"
      ],
      "text/plain": [
       "<IPython.core.display.Math object>"
      ]
     },
     "metadata": {},
     "output_type": "display_data"
    },
    {
     "data": {
      "text/latex": [
       "$\\displaystyle R^{\\varphi}_{\\theta \\theta \\varphi} = - \\frac{\\left(a \\sin{\\left(\\varphi \\right)} + b\\right) \\sin{\\left(\\varphi \\right)}}{a}$"
      ],
      "text/plain": [
       "<IPython.core.display.Math object>"
      ]
     },
     "metadata": {},
     "output_type": "display_data"
    },
    {
     "data": {
      "text/latex": [
       "$\\displaystyle R^{\\varphi}_{\\theta \\varphi \\theta} = \\frac{\\left(a \\sin{\\left(\\varphi \\right)} + b\\right) \\sin{\\left(\\varphi \\right)}}{a}$"
      ],
      "text/plain": [
       "<IPython.core.display.Math object>"
      ]
     },
     "metadata": {},
     "output_type": "display_data"
    },
    {
     "data": {
      "text/latex": [
       "$\\displaystyle \\left[\\begin{matrix}\\left[\\begin{matrix}0 & 0\\\\0 & 0\\end{matrix}\\right] & \\left[\\begin{matrix}0 & \\frac{a \\sin{\\left(\\varphi \\right)}}{a \\sin{\\left(\\varphi \\right)} + b}\\\\- \\frac{a \\sin{\\left(\\varphi \\right)}}{a \\sin{\\left(\\varphi \\right)} + b} & 0\\end{matrix}\\right]\\\\\\left[\\begin{matrix}0 & - \\frac{\\left(a \\sin{\\left(\\varphi \\right)} + b\\right) \\sin{\\left(\\varphi \\right)}}{a}\\\\\\frac{\\left(a \\sin{\\left(\\varphi \\right)} + b\\right) \\sin{\\left(\\varphi \\right)}}{a} & 0\\end{matrix}\\right] & \\left[\\begin{matrix}0 & 0\\\\0 & 0\\end{matrix}\\right]\\end{matrix}\\right]$"
      ],
      "text/plain": [
       "⎡                                                                      ⎡      \n",
       "⎢                                                                      ⎢      \n",
       "⎢                               ⎡0  0⎤                                 ⎢      \n",
       "⎢                               ⎢    ⎥                                 ⎢      \n",
       "⎢                               ⎣0  0⎦                                 ⎢ -a⋅si\n",
       "⎢                                                                      ⎢──────\n",
       "⎢                                                                      ⎣a⋅sin(\n",
       "⎢                                                                             \n",
       "⎢⎡                                 -(a⋅sin(varphi) + b)⋅sin(varphi) ⎤         \n",
       "⎢⎢               0                 ─────────────────────────────────⎥         \n",
       "⎢⎢                                                 a                ⎥         \n",
       "⎢⎢                                                                  ⎥         \n",
       "⎢⎢(a⋅sin(varphi) + b)⋅sin(varphi)                                   ⎥         \n",
       "⎢⎢───────────────────────────────                  0                ⎥         \n",
       "⎣⎣               a                                                  ⎦         \n",
       "\n",
       "               a⋅sin(varphi)  ⎤⎤\n",
       "  0          ─────────────────⎥⎥\n",
       "             a⋅sin(varphi) + b⎥⎥\n",
       "                              ⎥⎥\n",
       "n(varphi)                     ⎥⎥\n",
       "───────────          0        ⎥⎥\n",
       "varphi) + b                   ⎦⎥\n",
       "                               ⎥\n",
       "                               ⎥\n",
       "                               ⎥\n",
       "         ⎡0  0⎤                ⎥\n",
       "         ⎢    ⎥                ⎥\n",
       "         ⎣0  0⎦                ⎥\n",
       "                               ⎥\n",
       "                               ⎦"
      ]
     },
     "execution_count": 247,
     "metadata": {},
     "output_type": "execute_result"
    }
   ],
   "source": [
    "sp.factor(Riemann_tensor(Christoffel(m(Op),False),True,False))"
   ]
  },
  {
   "cell_type": "markdown",
   "id": "ae99a3e7-20bc-4b44-8389-2eb26af50ddd",
   "metadata": {},
   "source": [
    "##### Tensor de Riemann en forma covariante"
   ]
  },
  {
   "cell_type": "code",
   "execution_count": 248,
   "id": "a65c1095-01bc-4463-804b-cd1b16079875",
   "metadata": {},
   "outputs": [
    {
     "data": {
      "text/latex": [
       "$\\displaystyle R_{\\theta \\varphi \\theta \\varphi} = a \\left(a \\sin{\\left(\\varphi \\right)} + b\\right) \\sin{\\left(\\varphi \\right)}$"
      ],
      "text/plain": [
       "<IPython.core.display.Math object>"
      ]
     },
     "metadata": {},
     "output_type": "display_data"
    },
    {
     "data": {
      "text/latex": [
       "$\\displaystyle R_{\\theta \\varphi \\varphi \\theta} = - a \\left(a \\sin{\\left(\\varphi \\right)} + b\\right) \\sin{\\left(\\varphi \\right)}$"
      ],
      "text/plain": [
       "<IPython.core.display.Math object>"
      ]
     },
     "metadata": {},
     "output_type": "display_data"
    },
    {
     "data": {
      "text/latex": [
       "$\\displaystyle R_{\\varphi \\theta \\theta \\varphi} = - a \\left(a \\sin{\\left(\\varphi \\right)} + b\\right) \\sin{\\left(\\varphi \\right)}$"
      ],
      "text/plain": [
       "<IPython.core.display.Math object>"
      ]
     },
     "metadata": {},
     "output_type": "display_data"
    },
    {
     "data": {
      "text/latex": [
       "$\\displaystyle R_{\\varphi \\theta \\varphi \\theta} = a \\left(a \\sin{\\left(\\varphi \\right)} + b\\right) \\sin{\\left(\\varphi \\right)}$"
      ],
      "text/plain": [
       "<IPython.core.display.Math object>"
      ]
     },
     "metadata": {},
     "output_type": "display_data"
    },
    {
     "data": {
      "text/latex": [
       "$\\displaystyle \\left[\\begin{matrix}\\left[\\begin{matrix}0 & 0\\\\0 & 0\\end{matrix}\\right] & \\left[\\begin{matrix}0 & a \\left(a \\sin{\\left(\\varphi \\right)} + b\\right) \\sin{\\left(\\varphi \\right)}\\\\- a \\left(a \\sin{\\left(\\varphi \\right)} + b\\right) \\sin{\\left(\\varphi \\right)} & 0\\end{matrix}\\right]\\\\\\left[\\begin{matrix}0 & - a \\left(a \\sin{\\left(\\varphi \\right)} + b\\right) \\sin{\\left(\\varphi \\right)}\\\\a \\left(a \\sin{\\left(\\varphi \\right)} + b\\right) \\sin{\\left(\\varphi \\right)} & 0\\end{matrix}\\right] & \\left[\\begin{matrix}0 & 0\\\\0 & 0\\end{matrix}\\right]\\end{matrix}\\right]$"
      ],
      "text/plain": [
       "⎡                                ⎡0  0⎤                                   ⎡   \n",
       "⎢                                ⎢    ⎥                                   ⎢   \n",
       "⎢                                ⎣0  0⎦                                   ⎣-a⋅\n",
       "⎢                                                                             \n",
       "⎢⎡                0                  -a⋅(a⋅sin(varphi) + b)⋅sin(varphi)⎤      \n",
       "⎢⎢                                                                     ⎥      \n",
       "⎣⎣a⋅(a⋅sin(varphi) + b)⋅sin(varphi)                  0                 ⎦      \n",
       "\n",
       "             0                   a⋅(a⋅sin(varphi) + b)⋅sin(varphi)⎤⎤\n",
       "                                                                  ⎥⎥\n",
       "(a⋅sin(varphi) + b)⋅sin(varphi)                  0                ⎦⎥\n",
       "                                                                   ⎥\n",
       "                            ⎡0  0⎤                                 ⎥\n",
       "                            ⎢    ⎥                                 ⎥\n",
       "                            ⎣0  0⎦                                 ⎦"
      ]
     },
     "execution_count": 248,
     "metadata": {},
     "output_type": "execute_result"
    }
   ],
   "source": [
    "Riemann_tensor_cov(Riemann_tensor(Christoffel(m(Op),False),False,False),\n",
    "                   m(Op),\n",
    "                   True)"
   ]
  },
  {
   "cell_type": "markdown",
   "id": "f5e4b3da-6928-48ac-9a3a-89fc73f2463d",
   "metadata": {},
   "source": [
    "##### Componentes únicos del tensor de Riemann covariante"
   ]
  },
  {
   "cell_type": "code",
   "execution_count": 249,
   "id": "659d7b40-d515-4137-8a79-8d73b42b9d44",
   "metadata": {},
   "outputs": [
    {
     "data": {
      "text/latex": [
       "$\\displaystyle R_{\\theta \\varphi \\theta \\varphi} = a \\left(a \\sin{\\left(\\varphi \\right)} + b\\right) \\sin{\\left(\\varphi \\right)}$"
      ],
      "text/plain": [
       "<IPython.core.display.Math object>"
      ]
     },
     "metadata": {},
     "output_type": "display_data"
    }
   ],
   "source": [
    "simetrias(Riemann_tensor_cov(Riemann_tensor(Christoffel(m(Op),False),False,False),\n",
    "                   m(Op),\n",
    "                   False))"
   ]
  },
  {
   "cell_type": "code",
   "execution_count": 250,
   "id": "0b2714d6-cb93-4704-9a38-4e594903978d",
   "metadata": {},
   "outputs": [
    {
     "data": {
      "text/latex": [
       "$\\displaystyle \\left[\\begin{matrix}\\frac{\\left(a \\sin{\\left(\\varphi \\right)} + b\\right) \\sin{\\left(\\varphi \\right)}}{a} & 0\\\\0 & \\frac{a \\sin{\\left(\\varphi \\right)}}{a \\sin{\\left(\\varphi \\right)} + b}\\end{matrix}\\right]$"
      ],
      "text/plain": [
       "⎡(a⋅sin(varphi) + b)⋅sin(varphi)                   ⎤\n",
       "⎢───────────────────────────────          0        ⎥\n",
       "⎢               a                                  ⎥\n",
       "⎢                                                  ⎥\n",
       "⎢                                   a⋅sin(varphi)  ⎥\n",
       "⎢               0                 ─────────────────⎥\n",
       "⎣                                 a⋅sin(varphi) + b⎦"
      ]
     },
     "execution_count": 250,
     "metadata": {},
     "output_type": "execute_result"
    }
   ],
   "source": [
    "Ricci = contraction(Riemann_tensor(Christoffel(m(Op),False),False,False), (0, 2))\n",
    "Ricci"
   ]
  },
  {
   "cell_type": "code",
   "execution_count": 251,
   "id": "d298c44f-6cfb-4c20-9dee-fd7e4416bc93",
   "metadata": {},
   "outputs": [
    {
     "data": {
      "image/png": "[encoded data removed]",
      "text/latex": [
       "$\\displaystyle \\frac{2 \\sin{\\left(\\varphi \\right)}}{a \\left(a \\sin{\\left(\\varphi \\right)} + b\\right)}$"
      ],
      "text/plain": [
       "    2⋅sin(varphi)    \n",
       "─────────────────────\n",
       "a⋅(a⋅sin(varphi) + b)"
      ]
     },
     "execution_count": 251,
     "metadata": {},
     "output_type": "execute_result"
    }
   ],
   "source": [
    "Ricci_s = 0\n",
    "for i in range(Ricci.shape[1]):\n",
    "  for u in range(Ricci.shape[1]):\n",
    "    Ricci_s = Ricci_s + m(Op).inv()[i,u] * Ricci[i,u]\n",
    "\n",
    "sp.simplify(Ricci_s)"
   ]
  },
  {
   "cell_type": "code",
   "execution_count": 252,
   "id": "7621b756-0973-4d2c-9733-829ca52a6728",
   "metadata": {},
   "outputs": [
    {
     "name": "stdout",
     "output_type": "stream",
     "text": [
      "Requirement already satisfied: einsteinpy in /home/holman/miniconda3/envs/cosmos/lib/python3.11/site-packages (0.4.0)\n",
      "Requirement already satisfied: numpy in /home/holman/miniconda3/envs/cosmos/lib/python3.11/site-packages (from einsteinpy) (1.23.5)\n",
      "Requirement already satisfied: astropy in /home/holman/miniconda3/envs/cosmos/lib/python3.11/site-packages (from einsteinpy) (5.3.4)\n",
      "Requirement already satisfied: matplotlib in /home/holman/miniconda3/envs/cosmos/lib/python3.11/site-packages (from einsteinpy) (3.8.0)\n",
      "Requirement already satisfied: scipy>=1.0 in /home/holman/miniconda3/envs/cosmos/lib/python3.11/site-packages (from einsteinpy) (1.11.4)\n",
      "Requirement already satisfied: plotly>=4.0 in /home/holman/miniconda3/envs/cosmos/lib/python3.11/site-packages (from einsteinpy) (5.22.0)\n",
      "Requirement already satisfied: sympy>=1.1 in /home/holman/miniconda3/envs/cosmos/lib/python3.11/site-packages (from einsteinpy) (1.12)\n",
      "Requirement already satisfied: numba!=0.49.0,>=0.46 in /home/holman/miniconda3/envs/cosmos/lib/python3.11/site-packages (from einsteinpy) (0.59.0)\n",
      "Requirement already satisfied: llvmlite<0.43,>=0.42.0dev0 in /home/holman/miniconda3/envs/cosmos/lib/python3.11/site-packages (from numba!=0.49.0,>=0.46->einsteinpy) (0.42.0)\n",
      "Requirement already satisfied: tenacity>=6.2.0 in /home/holman/miniconda3/envs/cosmos/lib/python3.11/site-packages (from plotly>=4.0->einsteinpy) (8.4.1)\n",
      "Requirement already satisfied: packaging in /home/holman/miniconda3/envs/cosmos/lib/python3.11/site-packages (from plotly>=4.0->einsteinpy) (23.1)\n",
      "Requirement already satisfied: mpmath>=0.19 in /home/holman/miniconda3/envs/cosmos/lib/python3.11/site-packages (from sympy>=1.1->einsteinpy) (1.3.0)\n",
      "Requirement already satisfied: pyerfa>=2.0 in /home/holman/miniconda3/envs/cosmos/lib/python3.11/site-packages (from astropy->einsteinpy) (2.0.0)\n",
      "Requirement already satisfied: PyYAML>=3.13 in /home/holman/miniconda3/envs/cosmos/lib/python3.11/site-packages (from astropy->einsteinpy) (6.0.1)\n",
      "Requirement already satisfied: contourpy>=1.0.1 in /home/holman/miniconda3/envs/cosmos/lib/python3.11/site-packages (from matplotlib->einsteinpy) (1.2.0)\n",
      "Requirement already satisfied: cycler>=0.10 in /home/holman/miniconda3/envs/cosmos/lib/python3.11/site-packages (from matplotlib->einsteinpy) (0.11.0)\n",
      "Requirement already satisfied: fonttools>=4.22.0 in /home/holman/miniconda3/envs/cosmos/lib/python3.11/site-packages (from matplotlib->einsteinpy) (4.25.0)\n",
      "Requirement already satisfied: kiwisolver>=1.0.1 in /home/holman/miniconda3/envs/cosmos/lib/python3.11/site-packages (from matplotlib->einsteinpy) (1.4.4)\n",
      "Requirement already satisfied: pillow>=6.2.0 in /home/holman/miniconda3/envs/cosmos/lib/python3.11/site-packages (from matplotlib->einsteinpy) (10.2.0)\n",
      "Requirement already satisfied: pyparsing>=2.3.1 in /home/holman/miniconda3/envs/cosmos/lib/python3.11/site-packages (from matplotlib->einsteinpy) (3.0.9)\n",
      "Requirement already satisfied: python-dateutil>=2.7 in /home/holman/miniconda3/envs/cosmos/lib/python3.11/site-packages (from matplotlib->einsteinpy) (2.8.2)\n",
      "Requirement already satisfied: six>=1.5 in /home/holman/miniconda3/envs/cosmos/lib/python3.11/site-packages (from python-dateutil>=2.7->matplotlib->einsteinpy) (1.16.0)\n"
     ]
    }
   ],
   "source": [
    "!pip install einsteinpy"
   ]
  },
  {
   "cell_type": "code",
   "execution_count": 253,
   "id": "69c3d720-fdde-4c75-a959-b639c1084d6f",
   "metadata": {},
   "outputs": [],
   "source": [
    "from einsteinpy.symbolic import RicciTensor, RicciScalar\n",
    "from einsteinpy.symbolic.predefined import AntiDeSitter\n",
    "\n",
    "sp.init_printing()"
   ]
  },
  {
   "cell_type": "code",
   "execution_count": 254,
   "id": "f5581b47-fd5f-4224-b741-a7d9a8b0b2b7",
   "metadata": {},
   "outputs": [
    {
     "ename": "AttributeError",
     "evalue": "'MutableDenseMatrix' object has no attribute 'tensor'",
     "output_type": "error",
     "traceback": [
      "\u001b[0;31m---------------------------------------------------------------------------\u001b[0m",
      "\u001b[0;31mAttributeError\u001b[0m                            Traceback (most recent call last)",
      "Cell \u001b[0;32mIn[254], line 2\u001b[0m\n\u001b[1;32m      1\u001b[0m metric \u001b[38;5;241m=\u001b[39m m(Op)\n\u001b[0;32m----> 2\u001b[0m metric\u001b[38;5;241m.\u001b[39mtensor()\n",
      "\u001b[0;31mAttributeError\u001b[0m: 'MutableDenseMatrix' object has no attribute 'tensor'"
     ]
    }
   ],
   "source": [
    "metric = m(Op)\n",
    "metric.tensor()"
   ]
  },
  {
   "cell_type": "code",
   "execution_count": null,
   "id": "65341e5a-3c8f-4042-aa37-e7ac4fe0c5e7",
   "metadata": {},
   "outputs": [],
   "source": []
  },
  {
   "cell_type": "code",
   "execution_count": null,
   "id": "0f6792b0-8468-48ac-902e-333bf7eae869",
   "metadata": {},
   "outputs": [],
   "source": []
  },
  {
   "cell_type": "markdown",
   "id": "c6cc6eeb-7d9d-4652-a46a-cca534c3b60f",
   "metadata": {},
   "source": [
    "#### Ejercicio #3 Capítulo 7"
   ]
  },
  {
   "cell_type": "markdown",
   "id": "774e55d0-94cc-41ad-962e-934cb0a2d8df",
   "metadata": {
    "jp-MarkdownHeadingCollapsed": true
   },
   "source": [
    "###### Variables"
   ]
  },
  {
   "cell_type": "code",
   "execution_count": null,
   "id": "11a9776a-cc13-420f-9427-ca0ab616391f",
   "metadata": {},
   "outputs": [],
   "source": [
    "global S_phi,F_phi,g_phi\n",
    "\n",
    "def partial_phi(M,m,k,l): # Calculadora de derivadas parciales\n",
    "  if sp.diff(M[m,k],S_phi[l]) != 0:\n",
    "      D0,D1,D2,D3 = sp.symbols('\\partial_{t}\\phi \\partial_{x}\\phi \\partial_{y}\\phi \\partial_{z}\\phi')\n",
    "      expr = sp.diff(M[m,k],S_phi[l])\n",
    "      if l == 0:\n",
    "          final = expr.subs({sp.diff(F_phi, S_phi[0]): D0})\n",
    "          return final\n",
    "      if l == 1:\n",
    "          final = expr.subs({sp.diff(F_phi, S_phi[1]): D1})\n",
    "          return final\n",
    "      if l == 2:\n",
    "          final = expr.subs({sp.diff(F_phi, S_phi[2]): D2})\n",
    "          return final\n",
    "      if l == 3:\n",
    "          final = expr.subs({sp.diff(F_phi, S_phi[3]): D3})\n",
    "          return final\n",
    "  else:\n",
    "    return 0\n",
    "\n",
    "def Christoffel_phi(M,eye=False): # Función que calcula los símbolos de Christoffel: Entradas(métrica,bool para mostrar o no lo resultados)\n",
    "  R = int(M.shape[0]) # Tamaño del array con base en la forma de la métrica\n",
    "  chris_matrix = MutableDenseNDimArray.zeros(R,R,R) # Llenar el array de dimensión R con ceros\n",
    "  G = sp.zeros(R, R)\n",
    "  G = sp.Matrix(G) # Matriz con ceros del símbolo Gamma^{i}_{ij}\n",
    "  M_i = M.inv()#  Matriz inversa de la métrica\n",
    "  for i in range(R): # Bucle para llenar las matrices\n",
    "    for r in range(R):\n",
    "      for c in range(R):\n",
    "        G[r,c] = 0\n",
    "        for v in range(R):\n",
    "          G[r,c] = G[r,c] + (1/2 * M_i[i,v] * (partial_phi(M,c,v,r) + partial_phi(M,r,v,c) - partial_phi(M,r,c,v))) # Aplicar relación 2\n",
    "        chris_matrix[i,r,c] = sp.nsimplify(G[r,c]) # Simplificar\n",
    "\n",
    "    if (eye == True): # Mostrar resultados en pantalla\n",
    "      DP(Math(f\"\\Gamma^{i}_{{ij}} = \" + sp.latex(sp.nsimplify(G)))) # Mostrar símbolos en forma de matriz\n",
    "      print('\\n')\n",
    "      ls_pm = []\n",
    "      for r in range(R): # Tan sólo mostrar aquellos símbolos que sean distintos de 0 y que sean únicos junto a su correspondencia simétrica\n",
    "        for c in range(R):\n",
    "          if G[r,c] != 0:\n",
    "            if (G[r,c] == G[c,r]) and (r != c):\n",
    "              tmp = str(r) + str(c)\n",
    "              if (permut(tmp,ls_pm)) == False:\n",
    "                DP(Math(r'\\Gamma^{' + sp.latex(S_phi[i]) + '}_{' + sp.latex(S_phi[r]) + r' ' + sp.latex(S_phi[c]) + '} = ' + sp.latex(sp.nsimplify(G[r,c])) + r' = \\Gamma^{' + sp.latex(S_phi[i]) + '}_{' + sp.latex(S_phi[c]) + r' ' + sp.latex(S_phi[r]) + '}'))\n",
    "                ls_pm.append(tmp)\n",
    "            else:\n",
    "              DP(Math(r'\\Gamma^{' + sp.latex(S_phi[i]) + '}_{' + sp.latex(S_phi[r]) + r' ' + sp.latex(S_phi[c]) + '} = ' + sp.latex(sp.nsimplify(G[r,c]))))\n",
    "      print('\\n')\n",
    "  return chris_matrix # Devuelve la matriz con los símbolos de Christoffel"
   ]
  },
  {
   "cell_type": "markdown",
   "id": "7684cfb1-05ce-4485-9f39-1cb87a5fdb21",
   "metadata": {},
   "source": [
    "#### Code"
   ]
  },
  {
   "cell_type": "code",
   "execution_count": null,
   "id": "082db6b9-5223-4bc7-af3f-50a67ef06be6",
   "metadata": {},
   "outputs": [],
   "source": [
    "phi,C = sp.symbols('phi C')\n",
    "expr = -1* C/(-2*phi -1)\n",
    "expa = sp.series(expr, phi, 0, 2)\n",
    "expa"
   ]
  },
  {
   "cell_type": "code",
   "execution_count": null,
   "id": "57fe65ff-4add-46e1-be20-db45fed921e1",
   "metadata": {},
   "outputs": [],
   "source": [
    "S_phi = sp.symbols('t x y z')\n",
    "F_phi = sp.Function('phi')(S_s[0],S_s[1],S_s[2],S_s[3])\n",
    "g_phi = sp.Matrix([\n",
    "    [-(1+2*F_phi), 0, 0, 0],\n",
    "    [0, (1-2*F_phi), 0, 0],\n",
    "    [0, 0, (1-2*F_phi), 0],\n",
    "    [0, 0, 0, (1-2*F_phi)]\n",
    "])\n",
    "\n",
    "g_phi"
   ]
  },
  {
   "cell_type": "code",
   "execution_count": null,
   "id": "cff4ac16-d7af-4f37-afc2-fdd32c840cde",
   "metadata": {},
   "outputs": [],
   "source": [
    "g_phi.inv()"
   ]
  },
  {
   "cell_type": "code",
   "execution_count": null,
   "id": "e5d260a8-a7bf-4a97-a9a4-724c6b9f7d85",
   "metadata": {},
   "outputs": [],
   "source": [
    "def xpansion(M,P,order=2): # Entrada (Matriz, parametro)\n",
    "    dummy = sp.Symbol('epsilon')\n",
    "    size = M.shape[0]\n",
    "    FM = sp.zeros(size, size)\n",
    "    FM = sp.Matrix(FM) #Final Matrix\n",
    "    for p in range(size):\n",
    "        for s in range(size):\n",
    "            if M[p,s] == 0:\n",
    "                FM[p,s] == 0\n",
    "            else:\n",
    "                tmp = M[p,s]\n",
    "                func_1 = tmp.subs(P,dummy)\n",
    "                expansion = sp.series(func_1,dummy,0,order).removeO()\n",
    "                func_2 = expansion.subs(dummy,P)\n",
    "                FM[p,s] = func_2\n",
    "    return FM\n",
    "xpansion(g_phi.inv(),F_phi)"
   ]
  },
  {
   "cell_type": "code",
   "execution_count": null,
   "id": "0b428741-9dd8-4b9f-a77b-7b255d584ef9",
   "metadata": {},
   "outputs": [],
   "source": [
    "Chris_phi = Christoffel_phi(g_phi,True)"
   ]
  },
  {
   "cell_type": "code",
   "execution_count": null,
   "id": "ce4ee10e-f755-4597-bba3-c0168c633b2a",
   "metadata": {},
   "outputs": [],
   "source": [
    "xpansion(Chris_phi[0],F_phi)"
   ]
  },
  {
   "cell_type": "code",
   "execution_count": null,
   "id": "f0c10151-4a4d-4cd7-b502-0df40b127189",
   "metadata": {},
   "outputs": [],
   "source": [
    "xpansion(Chris_phi[1],F_phi)"
   ]
  },
  {
   "cell_type": "code",
   "execution_count": null,
   "id": "bcad7414-4e11-4423-a7cc-f672e895e854",
   "metadata": {},
   "outputs": [],
   "source": [
    "xpansion(Chris_phi[2],F_phi)"
   ]
  },
  {
   "cell_type": "code",
   "execution_count": null,
   "id": "a0f1ca7b-ebe2-440f-8064-54af59f4fc95",
   "metadata": {},
   "outputs": [],
   "source": [
    "xpansion(Chris_phi[3],F_phi)"
   ]
  },
  {
   "cell_type": "code",
   "execution_count": null,
   "id": "48f2d9c2-e6c9-4d01-9464-86d00616deb2",
   "metadata": {},
   "outputs": [],
   "source": []
  },
  {
   "cell_type": "code",
   "execution_count": null,
   "id": "66848815-ca6b-4242-a3c3-1cabd652ec08",
   "metadata": {},
   "outputs": [],
   "source": []
  },
  {
   "cell_type": "code",
   "execution_count": null,
   "id": "c7259121-738f-49e9-8f71-9c04b42c67b6",
   "metadata": {},
   "outputs": [],
   "source": []
  },
  {
   "cell_type": "code",
   "execution_count": null,
   "id": "669a2631-3857-49a3-bc2a-25e39672bb06",
   "metadata": {},
   "outputs": [],
   "source": []
  }
 ],
 "metadata": {
  "kernelspec": {
   "display_name": "cosmos",
   "language": "python",
   "name": "cosmos"
  },
  "language_info": {
   "codemirror_mode": {
    "name": "ipython",
    "version": 3
   },
   "file_extension": ".py",
   "mimetype": "text/x-python",
   "name": "python",
   "nbconvert_exporter": "python",
   "pygments_lexer": "ipython3",
   "version": "3.11.5"
  }
 },
 "nbformat": 4,
 "nbformat_minor": 5
}
